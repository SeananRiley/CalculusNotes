{
 "cells": [
  {
   "cell_type": "markdown",
   "id": "e5adf044-cc99-4488-a1d2-5b0b80b9cfe4",
   "metadata": {},
   "source": [
    "# Calculus Notes - Lesson 25"
   ]
  },
  {
   "attachments": {},
   "cell_type": "markdown",
   "id": "d5af186a-fa1d-498f-b1b1-f019377025a1",
   "metadata": {},
   "source": [
    "## Partial fractions\n",
    "Adding fractions requires finding least common mutliples 1/2 + 1/3 = 3/6 + 2/6 = 5/6\n",
    "\n",
    "That process can also be reversed. 5/6 = (2+3)/6 = 1/2 + 1/3\n",
    "\n",
    "It can also be applied to denominators with variables\n",
    "\n",
    "\n",
    "$\\displaystyle \\frac{1}{x(x+1)} =\\displaystyle \\frac{(x+1) - x}{x(x+1)}   $\n",
    "\n",
    "  $  \\quad = \\displaystyle \\frac{(x+1) }{x(x+1)} - \\frac{x}{x(x+1)}  $\n",
    "\n",
    "  $  \\quad = \\displaystyle \\frac{1 }{x} - \\frac{1}{(x+1)}  $\n",
    "  \n",
    "  which is easier to integrate"
   ]
  },
  {
   "cell_type": "markdown",
   "id": "a0d22cb2",
   "metadata": {},
   "source": [
    "## Improper integrals\n",
    "\n",
    "\n",
    "An improper integral is a limit of the form:\n",
    "\n",
    "$\\lim_{b\\to\\infty} \\int_a^bf(x)\\, dx$\n",
    "\n",
    "in which one takes a limit in one or the other (or sometimes both) endpoints."
   ]
  },
  {
   "cell_type": "code",
   "execution_count": null,
   "id": "b15b78de",
   "metadata": {},
   "outputs": [],
   "source": []
  }
 ],
 "metadata": {
  "kernelspec": {
   "display_name": "Python 3 (ipykernel)",
   "language": "python",
   "name": "python3"
  },
  "language_info": {
   "codemirror_mode": {
    "name": "ipython",
    "version": 3
   },
   "file_extension": ".py",
   "mimetype": "text/x-python",
   "name": "python",
   "nbconvert_exporter": "python",
   "pygments_lexer": "ipython3",
   "version": "3.8.11"
  }
 },
 "nbformat": 4,
 "nbformat_minor": 5
}
