{
 "cells": [
  {
   "cell_type": "markdown",
   "id": "e5adf044-cc99-4488-a1d2-5b0b80b9cfe4",
   "metadata": {},
   "source": [
    "# Calculus Notes - Lesson 25"
   ]
  },
  {
   "cell_type": "markdown",
   "id": "d5af186a-fa1d-498f-b1b1-f019377025a1",
   "metadata": {},
   "source": [
    "## Partial fractions\n",
    "Adding fractions requires finding least common mutliples 1/2 + 1/3 = 3/6 + 2/6 = 5/6\n",
    "\n",
    "That process can also be reversed. 5/6 = (2+3)/6 = 1/2 + 1/3\n",
    "\n",
    "It can also be applied to denominators with variables\n",
    "\n",
    "\n",
    "$\\displaystyle \\frac{1}{x(x+1)} =\\displaystyle \\frac{(x+1) - x}{x(x+1)}   $\n",
    "\n",
    "  $  \\quad = \\displaystyle \\frac{(x+1) }{x(x+1)} - \\frac{x}{x(x+1)}  $\n",
    "\n",
    "  $  \\quad = \\displaystyle \\frac{1 }{x} - \\frac{1}{(x+1)}  $\n",
    "  \n",
    "  which is easier to integrate"
   ]
  },
  {
   "cell_type": "markdown",
   "id": "a0d22cb2",
   "metadata": {},
   "source": [
    "## Improper integrals\n",
    "\n",
    "\n",
    "An improper integral is a limit of the form:\n",
    "\n",
    "$\\lim_{b\\to\\infty} \\int_a^bf(x)\\, dx$\n",
    "\n",
    "in which one takes a limit in one or the other (or sometimes both) endpoints."
   ]
  },
  {
   "cell_type": "markdown",
   "id": "dc2d7451",
   "metadata": {},
   "source": [
    "# Homework\n",
    "\n",
    "3.a\n",
    "\n",
    "$\\displaystyle \\int \\frac {1} {x^2 + 3x -4} dx $\n",
    "\n",
    "$\\displaystyle \\qquad = \\int \\frac {1} {(x+4)(x-1)} dx $\n"
   ]
  },
  {
   "cell_type": "markdown",
   "id": "664f8383",
   "metadata": {},
   "source": [
    "$  \\qquad \\qquad \\text{ find } a , b \\text{ where } a(x+4) + b(x-1) = 1$"
   ]
  },
  {
   "cell_type": "markdown",
   "id": "da102d00",
   "metadata": {},
   "source": [
    "$  \\qquad \\qquad a = 1/5 ,  b = -1/5$"
   ]
  },
  {
   "cell_type": "markdown",
   "id": "92e8c9be",
   "metadata": {},
   "source": [
    "$\\displaystyle \\int \\frac {1} {(x+4)(x-1)} dx $\n",
    "\n",
    "$\\displaystyle \\qquad = \\int \\frac {\\frac{(x+4)}{5} - \\frac{(x-1)}{5}} {(x+4)(x-1)} dx $"
   ]
  },
  {
   "cell_type": "markdown",
   "id": "65599269",
   "metadata": {},
   "source": [
    "$\\displaystyle \\qquad = \\int \\frac {1}{5(x-1)} - \\frac{1} {5(x+4)}   dx $"
   ]
  },
  {
   "cell_type": "markdown",
   "id": "1a75b75f",
   "metadata": {},
   "source": [
    "$\\displaystyle \\qquad = \\int \\frac {1}{5(x-1)} dx  - \\int \\frac{1} {5(x+4)}   dx $"
   ]
  },
  {
   "cell_type": "markdown",
   "id": "fa7a219c",
   "metadata": {},
   "source": [
    "$\\displaystyle \\qquad = \\frac {1}{5 \\ln |x-1|}   -  \\frac{1} {5 \\ln |x+4| }    $"
   ]
  },
  {
   "cell_type": "markdown",
   "id": "be84c7f8",
   "metadata": {},
   "source": [
    "3b\n",
    "\n",
    "$ \\displaystyle \\int \\frac {11x + 17} {2x^2 + 7x - 4} dx $"
   ]
  },
  {
   "cell_type": "markdown",
   "id": "3f13d96b",
   "metadata": {},
   "source": [
    "\n",
    "$ \\displaystyle \\qquad \\qquad = \\int \\frac {11x + 17} {2x^2 + 7x - 4} dx $"
   ]
  },
  {
   "cell_type": "markdown",
   "id": "a078077a",
   "metadata": {},
   "source": [
    "\n",
    "$ \\displaystyle \\qquad \\qquad = \\int \\frac {11x + 17} {(2x-1)(x+4)} dx $"
   ]
  },
  {
   "cell_type": "markdown",
   "id": "e3128b6e",
   "metadata": {},
   "source": [
    "$  \\qquad \\qquad \\text{ find } a , b \\text{ where } a(2x-1) + b(x+4) = 11x + 17$"
   ]
  },
  {
   "cell_type": "markdown",
   "id": "0d285b4b",
   "metadata": {},
   "source": [
    "$\\qquad \\qquad 2a+ b = 11 , 4b - a = 17$"
   ]
  },
  {
   "cell_type": "markdown",
   "id": "99085e40",
   "metadata": {},
   "source": [
    "$\\qquad \\qquad 9b = 11 + 34$"
   ]
  },
  {
   "cell_type": "markdown",
   "id": "4e4c5302",
   "metadata": {},
   "source": [
    "$\\qquad \\qquad 9b = 45$"
   ]
  },
  {
   "cell_type": "markdown",
   "id": "8d7e5fd6",
   "metadata": {},
   "source": [
    "$\\qquad \\qquad b=5 , a=3$"
   ]
  },
  {
   "cell_type": "markdown",
   "id": "849a73e2",
   "metadata": {},
   "source": [
    "$\\displaystyle \\qquad = \\int \\frac {3}{(x+4)} dx  + \\int \\frac{5} {2x-1}   dx $"
   ]
  },
  {
   "cell_type": "markdown",
   "id": "66231b22",
   "metadata": {},
   "source": [
    "$\\displaystyle \\qquad = \\frac {3}{ \\ln |x+4|}   +  \\frac{5} { \\ln |2x-1| }    $"
   ]
  },
  {
   "cell_type": "markdown",
   "id": "069bf864",
   "metadata": {},
   "source": [
    "3c\n",
    "\n",
    "$\\displaystyle \\int \\frac{2x^2-9x-9}{x(x-3)(x+3)} dx $"
   ]
  },
  {
   "cell_type": "markdown",
   "id": "d428f34f",
   "metadata": {},
   "source": [
    "\n",
    "$\\displaystyle = \\int \\frac{2x(x-3) -3(x+3)}{x(x-3)(x+3)} dx $"
   ]
  },
  {
   "cell_type": "markdown",
   "id": "ffd1255e",
   "metadata": {},
   "source": [
    "\n",
    "$\\displaystyle = \\int \\frac{2}{x+3} dx -\\int \\frac{3}{x(x-3)} dx $"
   ]
  },
  {
   "cell_type": "markdown",
   "id": "63354df9",
   "metadata": {},
   "source": [
    "\n",
    "$\\displaystyle = \\int \\frac{2}{x+3} dx -\\int \\frac{x - (x-3)}{x(x-3)} dx $"
   ]
  },
  {
   "cell_type": "markdown",
   "id": "92c130f3",
   "metadata": {},
   "source": [
    "\n",
    "$\\displaystyle = \\int \\frac{2}{x+3} dx -\\int \\frac{1}{(x-3)} dx + \\int \\frac{1}{x} dx $"
   ]
  },
  {
   "cell_type": "markdown",
   "id": "381a87e6",
   "metadata": {},
   "source": [
    "$\\displaystyle \\qquad = \\frac {2}{ \\ln |x+3|}   -  \\frac{1} { \\ln |x-3| }   +  \\frac{1} { \\ln |x| }   $"
   ]
  }
 ],
 "metadata": {
  "kernelspec": {
   "display_name": "Python 3 (ipykernel)",
   "language": "python",
   "name": "python3"
  },
  "language_info": {
   "codemirror_mode": {
    "name": "ipython",
    "version": 3
   },
   "file_extension": ".py",
   "mimetype": "text/x-python",
   "name": "python",
   "nbconvert_exporter": "python",
   "pygments_lexer": "ipython3",
   "version": "3.8.11"
  }
 },
 "nbformat": 4,
 "nbformat_minor": 5
}
