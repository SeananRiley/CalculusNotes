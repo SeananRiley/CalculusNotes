{
 "cells": [
  {
   "cell_type": "markdown",
   "id": "e5adf044-cc99-4488-a1d2-5b0b80b9cfe4",
   "metadata": {},
   "source": [
    "# Calculus Notes"
   ]
  },
  {
   "cell_type": "markdown",
   "id": "d5af186a-fa1d-498f-b1b1-f019377025a1",
   "metadata": {},
   "source": [
    "## Euler Method\n",
    "\n",
    "The Euler method is a way of approximating values of partial differential equations. Basically, you just create a series of small tangent functions to approximate a curve.\n",
    "\n",
    "Create a function f such that\n",
    "\n",
    "$y'(t) = f(t,y(t))$ \n",
    "\n",
    "If you have some intial value $y(t_0)=y_0$ then choose a value <math>h</math> for the size of every step and set $t_n = t_0 + nh$. Now, one step of the Euler method from $t_n$ to $t_{n+1} = t_n + h$ is\n",
    "\n",
    "$y_{n+1} = y_n + hf(t_n,y_n)$\n"
   ]
  },
  {
   "cell_type": "code",
   "execution_count": null,
   "id": "754db83c-f9de-4a07-bf3e-5ffaf595406f",
   "metadata": {},
   "outputs": [],
   "source": []
  }
 ],
 "metadata": {
  "kernelspec": {
   "display_name": "Python 3",
   "language": "python",
   "name": "python3"
  },
  "language_info": {
   "codemirror_mode": {
    "name": "ipython",
    "version": 3
   },
   "file_extension": ".py",
   "mimetype": "text/x-python",
   "name": "python",
   "nbconvert_exporter": "python",
   "pygments_lexer": "ipython3",
   "version": "3.7.8"
  }
 },
 "nbformat": 4,
 "nbformat_minor": 5
}
