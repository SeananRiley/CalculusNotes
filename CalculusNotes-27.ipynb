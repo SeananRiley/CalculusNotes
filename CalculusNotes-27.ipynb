{
 "cells": [
  {
   "cell_type": "markdown",
   "id": "e5adf044-cc99-4488-a1d2-5b0b80b9cfe4",
   "metadata": {},
   "source": [
    "# Calculus Notes - Lesson 27"
   ]
  },
  {
   "attachments": {},
   "cell_type": "markdown",
   "id": "d5af186a-fa1d-498f-b1b1-f019377025a1",
   "metadata": {},
   "source": [
    "## Differential Equations\n",
    "Solving differential equations can be difficult when a derivative of a variable is expressed in terms of that same variable.\n",
    "\n",
    "But this occurs frequently. For example: when population growth rate is a function of the population size or when the velocity (or acceleration) of an object is a function of it's position"
   ]
  },
  {
   "attachments": {},
   "cell_type": "markdown",
   "id": "ee630809",
   "metadata": {},
   "source": [
    "For example:\n",
    "\n",
    "$\\displaystyle \\frac{d^2 x}{dt^2} = \\frac{1}{x^2}$\n"
   ]
  },
  {
   "cell_type": "markdown",
   "id": "3b78fc00",
   "metadata": {},
   "source": [
    "## Verifying solutions\n",
    "If we have both a normal equation and a differential equation, we can use the two to solve for constants or verify solutions.\n",
    "\n",
    "For example, suppose we know \n",
    "\n",
    "$x = e^{-kt}$ and $ \\displaystyle \\frac{d^2 x}{dt^2} = 16x $ then\n",
    "\n",
    "$ \\displaystyle \\frac{dx}{dt} = -ke^{-kt}$\n",
    "\n",
    "$\\displaystyle \\frac{d^2 x}{dt^2} = k^2 e^{-kt}$\n",
    "\n",
    "$\\displaystyle \\frac{d^2 x}{dt^2} = k^2 x$\n",
    "\n",
    "$16x = k^2 x$\n",
    "\n",
    "$16 = k^2 $ \n",
    "\n",
    "$k = 4$"
   ]
  },
  {
   "cell_type": "markdown",
   "id": "c6d76919",
   "metadata": {},
   "source": []
  }
 ],
 "metadata": {
  "kernelspec": {
   "display_name": "Python 3 (ipykernel)",
   "language": "python",
   "name": "python3"
  },
  "language_info": {
   "codemirror_mode": {
    "name": "ipython",
    "version": 3
   },
   "file_extension": ".py",
   "mimetype": "text/x-python",
   "name": "python",
   "nbconvert_exporter": "python",
   "pygments_lexer": "ipython3",
   "version": "3.8.11"
  }
 },
 "nbformat": 4,
 "nbformat_minor": 5
}
